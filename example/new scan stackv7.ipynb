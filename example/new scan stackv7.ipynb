{
 "cells": [
  {
   "cell_type": "markdown",
   "id": "aa1b8dd4-6166-4427-9ca2-352c73d9c8a6",
   "metadata": {},
   "source": [
    "TEST VERSION BP 230107\n",
    "\n",
    "<h1>RSoXS plan simulator</h1>\n",
    "this is a full stack of the SST scan system, from the loader through to the low level acquisition code, all simulated here\n",
    "run all the hidden cells first!"
   ]
  },
  {
   "cell_type": "code",
   "execution_count": 1,
   "id": "7e5d7d25-aec5-4855-850d-5615814e81d5",
   "metadata": {},
   "outputs": [],
   "source": [
    "%load_ext autoreload\n",
    "%autoreload 2\n",
    "from rsoxs_scans.spreadsheets import load_samplesxlsx, save_samplesxlsx\n",
    "from rsoxs_scans.acquisition import dryrun_bar, get_acq_details"
   ]
  },
  {
   "cell_type": "code",
   "execution_count": 2,
   "id": "000aa2d5-b952-409a-a81a-2a115a08f82c",
   "metadata": {
    "tags": []
   },
   "outputs": [
    {
     "name": "stdout",
     "output_type": "stream",
     "text": [
      "Reading sheet Bar\n",
      "Reading sheet Acquisitions\n"
     ]
    },
    {
     "name": "stderr",
     "output_type": "stream",
     "text": [
      "/srv/conda/envs/notebook/lib/python3.9/site-packages/openpyxl/worksheet/_read_only.py:79: UserWarning: Data Validation extension is not supported and will be removed\n",
      "  for idx, row in parser.parse():\n"
     ]
    }
   ],
   "source": [
    "# test your .xlsx file here\n",
    "# load the example bar\n",
    "bar = load_samplesxlsx(r\"Sample_Bar_template_v2023_1.xlsx\")"
   ]
  },
  {
   "cell_type": "code",
   "execution_count": 3,
   "id": "43d5d355-a1f1-4af5-b4e8-ca2a8f7513b0",
   "metadata": {},
   "outputs": [],
   "source": [
    "save_samplesxlsx(bar,'test2.xlsx') # test writing to a temporary file"
   ]
  },
  {
   "cell_type": "code",
   "execution_count": 4,
   "id": "b835759d-35e5-431d-b401-f2466d0aff6f",
   "metadata": {},
   "outputs": [
    {
     "name": "stdout",
     "output_type": "stream",
     "text": [
      "Reading sheet Bar\n",
      "Reading sheet Acquisitions\n"
     ]
    }
   ],
   "source": [
    "bar2 = load_samplesxlsx(\"test2.xlsx\") # test loading from a temporary file"
   ]
  },
  {
   "cell_type": "code",
   "execution_count": null,
   "id": "28f74209-116e-4416-9f3c-0c655b0b6ac9",
   "metadata": {
    "tags": []
   },
   "outputs": [],
   "source": [
    "# dry run it\n",
    "outputs = dryrun_bar(bar,['apriority'],group='all')"
   ]
  },
  {
   "cell_type": "code",
   "execution_count": null,
   "id": "38076d20-5963-4f19-80a0-22682674da83",
   "metadata": {},
   "outputs": [],
   "source": [
    "# Get more details on a given acquisition\n",
    "get_acq_details(40,outputs)"
   ]
  },
  {
   "cell_type": "code",
   "execution_count": null,
   "id": "2b8e8d89-e1ed-41f7-a2f3-260f07c74632",
   "metadata": {},
   "outputs": [],
   "source": [
    "# get the set of all actions\n",
    "actions = set()\n",
    "for acq in outputs:\n",
    "    actions.add(acq['action'])\n",
    "print(actions)"
   ]
  },
  {
   "cell_type": "code",
   "execution_count": null,
   "id": "045fd5e0-dce3-4cd3-876a-18605e2fa829",
   "metadata": {},
   "outputs": [],
   "source": [
    "arguments = {}\n",
    "for action in actions:\n",
    "    keys = set()\n",
    "    for acq in outputs:\n",
    "        if acq['action'] == action:\n",
    "            if 'kwargs' in acq:\n",
    "                for kwarg in acq['kwargs']:\n",
    "                    keys.add(kwarg)\n",
    "    arguments[action]=keys\n",
    "    print(\"{:<18} : {}\".format(action,keys))"
   ]
  },
  {
   "cell_type": "code",
   "execution_count": null,
   "id": "d8665b06-04aa-4818-b381-3c9cd3075e94",
   "metadata": {},
   "outputs": [],
   "source": [
    "def get_queue(acq,outputs):\n",
    "    return list(filter(lambda outputs: outputs['acq_index'] == acq, outputs))\n",
    "\n",
    "for step in get_queue(0,outputs):\n",
    "            print(\"-\"*50)\n",
    "            print(f\"Step: {step['queue_step']}\")\n",
    "            print(\"-\"*50)\n",
    "            for key, value in step.items():\n",
    "                if isinstance(value, dict):\n",
    "                    print(f\"\\t{key}\", \" : \")\n",
    "                    for key2, value2 in value.items():\n",
    "                        if isinstance(value2, dict):\n",
    "                            print(f\"\\t\\t{key2}\", \" : \")\n",
    "                            for key3, value3 in value2.items():\n",
    "                                print(f\"\\t\\t\\t{key3}\", \" : \", value3)\n",
    "                        else:\n",
    "                            print(f\"\\t\\t{key2}\", \" : \", value2)\n",
    "                else:\n",
    "                    print(f\"\\t{key}\", \" : \", value)"
   ]
  },
  {
   "cell_type": "markdown",
   "id": "37783752-3496-473a-a060-a4498bf149b5",
   "metadata": {},
   "source": [
    "<h1>Examples of edges, ratios, frames"
   ]
  },
  {
   "cell_type": "code",
   "execution_count": null,
   "id": "5d44adc0-5366-4e94-944a-e26b36207010",
   "metadata": {},
   "outputs": [],
   "source": [
    "# totally manual simple scan\n",
    "from rsoxs_scans.constructor import get_energies\n",
    "energies = get_energies((1850,1930),100)"
   ]
  },
  {
   "cell_type": "code",
   "execution_count": null,
   "id": "30a30275-6494-4130-9f57-59d0ec712b7f",
   "metadata": {},
   "outputs": [],
   "source": [
    "# precise energy list\n",
    "# you can fool the algorithm if you put 1 as the number of frames it will only take one frame at each of the thresholds, including the last one, so you can sort of treat this as just an energy list\n",
    "# as a corollary, you can't have a total number of frames less than the thresholds that you give it in edges (it will at a minimum always take the threshold values)\n",
    "energies = get_energies((250,250,250,340,340,341,280,281.45,500,500),1)"
   ]
  },
  {
   "cell_type": "code",
   "execution_count": null,
   "id": "01f21db7-aefb-4ace-8200-56e3e03ee069",
   "metadata": {},
   "outputs": [],
   "source": [
    "# use a default\n",
    "energies = get_energies('Nitrogen')"
   ]
  },
  {
   "cell_type": "code",
   "execution_count": null,
   "id": "56a2c320-4ae5-45bf-b053-e01692b2d810",
   "metadata": {},
   "outputs": [],
   "source": [
    "# use a default with a different name\n",
    "energies = get_energies('c')"
   ]
  },
  {
   "cell_type": "code",
   "execution_count": null,
   "id": "e1e30377-dc74-424c-8283-c124ca1d345d",
   "metadata": {},
   "outputs": [],
   "source": [
    "# use a different built in interval set\n",
    "energies = get_energies('c','full','carbon nonaromatic')"
   ]
  },
  {
   "cell_type": "code",
   "execution_count": null,
   "id": "abbff89b-d872-41bc-9a58-2760307ad093",
   "metadata": {},
   "outputs": [],
   "source": [
    "# get a very short version of this scan\n",
    "energies = get_energies('c','very short','carbon nonaromatic')"
   ]
  },
  {
   "cell_type": "code",
   "execution_count": null,
   "id": "c1e455f8-680c-4a86-a706-326dc99b446c",
   "metadata": {},
   "outputs": [],
   "source": [
    "# I don't have time for this, I only want ~10 energies\n",
    "energies = get_energies('c',10,'carbon nonaromatic')"
   ]
  },
  {
   "cell_type": "code",
   "execution_count": null,
   "id": "771e227b-71cc-41c1-938a-cdead12cac27",
   "metadata": {},
   "outputs": [],
   "source": [
    "# also, I made single entry energies also work\n",
    "energies = get_energies(280)"
   ]
  },
  {
   "cell_type": "code",
   "execution_count": null,
   "id": "eb099401-380a-4a9e-91e7-601c24516b1b",
   "metadata": {},
   "outputs": [],
   "source": [
    "# also option to have frames as a list of exact numbers needed in each region\n",
    "energies = get_energies('c',[2,5,10,40,5,2])"
   ]
  },
  {
   "cell_type": "code",
   "execution_count": null,
   "id": "02a587fb-0d40-4be1-8981-e3780554fe82",
   "metadata": {},
   "outputs": [],
   "source": [
    "# putting in zero effectively removes that region\n",
    "energies = get_energies('c',[2,5,10,0,5,2])"
   ]
  },
  {
   "cell_type": "code",
   "execution_count": null,
   "id": "7ac7e575-ba97-47db-942d-0142f94bc874",
   "metadata": {},
   "outputs": [],
   "source": [
    "from rsoxs_scans.constructor import construct_exposure_times\n",
    "times,_ = construct_exposure_times(get_energies([270,280,290,400],500,[2,1,10]),1)\n",
    "len(times)"
   ]
  },
  {
   "cell_type": "code",
   "execution_count": null,
   "id": "1bfaf2de-0b6d-44c6-bb01-94298933acdc",
   "metadata": {},
   "outputs": [],
   "source": [
    "from rsoxs_scans.constructor import get_nexafs_scan_params\n",
    "get_nexafs_scan_params('n','normal')"
   ]
  },
  {
   "cell_type": "markdown",
   "id": "c51dddb5-ce03-415c-b959-4c3b0ce2f4eb",
   "metadata": {},
   "source": [
    "<h1>Example of complex Exposure times"
   ]
  },
  {
   "cell_type": "code",
   "execution_count": null,
   "id": "2176f39a-e823-4272-9239-7ee2652073d3",
   "metadata": {},
   "outputs": [],
   "source": [
    "construct_exposure_times(get_energies((1850,1930),100),[2,(\"between\",1870,1900.0),4,(\"greater_than\",1920.0),1],80)"
   ]
  },
  {
   "cell_type": "code",
   "execution_count": null,
   "id": "063b78bd-8623-4635-9de5-c071b548d807",
   "metadata": {},
   "outputs": [],
   "source": []
  },
  {
   "cell_type": "code",
   "execution_count": null,
   "id": "fce3a73c-cd98-4e50-ad61-850272a9b358",
   "metadata": {},
   "outputs": [],
   "source": []
  },
  {
   "cell_type": "code",
   "execution_count": null,
   "id": "3e8c16a1-55fe-4fa1-b990-ed76b04e9448",
   "metadata": {},
   "outputs": [],
   "source": []
  }
 ],
 "metadata": {
  "kernelspec": {
   "display_name": "Python 3 (ipykernel)",
   "language": "python",
   "name": "python3"
  },
  "language_info": {
   "codemirror_mode": {
    "name": "ipython",
    "version": 3
   },
   "file_extension": ".py",
   "mimetype": "text/x-python",
   "name": "python",
   "nbconvert_exporter": "python",
   "pygments_lexer": "ipython3",
   "version": "3.9.13"
  },
  "vscode": {
   "interpreter": {
    "hash": "054bedd935cc4fb30a8577dfc7551b971df042c2fe48c0ba637d4f4d7d65a122"
   }
  }
 },
 "nbformat": 4,
 "nbformat_minor": 5
}
