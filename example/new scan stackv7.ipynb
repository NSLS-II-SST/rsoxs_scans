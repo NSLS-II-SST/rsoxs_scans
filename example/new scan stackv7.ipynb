{
 "cells": [
  {
   "cell_type": "markdown",
   "id": "aa1b8dd4-6166-4427-9ca2-352c73d9c8a6",
   "metadata": {},
   "source": [
    "Release VERSION 230109\n",
    "\n",
    "<h1>RSoXS plan simulator</h1>\n",
    "this is a full stack of the SST scan system, from the loader through to the low level acquisition code, all simulated here\n",
    "run all the hidden cells first!"
   ]
  },
  {
   "cell_type": "code",
   "execution_count": 1,
   "id": "7e5d7d25-aec5-4855-850d-5615814e81d5",
   "metadata": {
    "tags": []
   },
   "outputs": [],
   "source": [
    "%load_ext autoreload\n",
    "%autoreload 2\n",
    "\n",
    "from rsoxs_scans.spreadsheets import load_samplesxlsx, save_samplesxlsx\n",
    "from rsoxs_scans.acquisition import dryrun_bar, get_acq_details"
   ]
  },
  {
   "cell_type": "code",
   "execution_count": 2,
   "id": "000aa2d5-b952-409a-a81a-2a115a08f82c",
   "metadata": {
    "tags": []
   },
   "outputs": [
    {
     "name": "stdout",
     "output_type": "stream",
     "text": [
      "spreadsheet version is 2023-1 Version 1.0\n",
      "Reading sheet Bar\n",
      "Reading sheet Acquisitions\n"
     ]
    }
   ],
   "source": [
    "# test your .xlsx file here\n",
    "# load the example bar\n",
    "bar = load_samplesxlsx(r\"/nsls2/users/bpatel/Sample_Bar_v2023_1.NIST.230301Draftv2_Clean.xlsx\")"
   ]
  },
  {
   "cell_type": "code",
   "execution_count": 3,
   "id": "43d5d355-a1f1-4af5-b4e8-ca2a8f7513b0",
   "metadata": {},
   "outputs": [],
   "source": [
    "save_samplesxlsx(bar,'test2.xlsx') # test writing to a temporary file"
   ]
  },
  {
   "cell_type": "code",
   "execution_count": 4,
   "id": "b835759d-35e5-431d-b401-f2466d0aff6f",
   "metadata": {},
   "outputs": [
    {
     "name": "stdout",
     "output_type": "stream",
     "text": [
      "spreadsheet version is 2023-1 Version 1.0\n",
      "Reading sheet Bar\n",
      "Reading sheet Acquisitions\n"
     ]
    }
   ],
   "source": [
    "bar2 = load_samplesxlsx(\"/nsls2/users/bpatel/RemoteKernels/out_2023-03-10_00-15-45_test2.xlsx.xlsx\") # test loading from a temporary file"
   ]
  },
  {
   "cell_type": "code",
   "execution_count": 6,
   "id": "28f74209-116e-4416-9f3c-0c655b0b6ac9",
   "metadata": {
    "tags": []
   },
   "outputs": [
    {
     "name": "stderr",
     "output_type": "stream",
     "text": [
      "/nsls2/users/bpatel/BP_LocalCodeBase/rsoxs_scans/rsoxs_scans/acquisition.py:269: UserWarning: WARNING: acquisition # 38 will take 42.25 minutes, which is more than 30.0 minutes\n",
      "  warnings.warn(\n",
      "/nsls2/users/bpatel/BP_LocalCodeBase/rsoxs_scans/rsoxs_scans/acquisition.py:269: UserWarning: WARNING: acquisition # 39 will take 192.55 minutes, which is more than 30.0 minutes\n",
      "  warnings.warn(\n",
      "/nsls2/users/bpatel/BP_LocalCodeBase/rsoxs_scans/rsoxs_scans/acquisition.py:269: UserWarning: WARNING: acquisition # 41 will take 122.0 minutes, which is more than 30.0 minutes\n",
      "  warnings.warn(\n",
      "/nsls2/users/bpatel/BP_LocalCodeBase/rsoxs_scans/rsoxs_scans/acquisition.py:307: UserWarning: WARNING: acquisition # 41 has a step with an error: string indices must be integers\n",
      "  warnings.warn(f\"WARNING: acquisition # {i} has a step with an error: {str(e)}\")\n"
     ]
    },
    {
     "ename": "TypeError",
     "evalue": "string indices must be integers",
     "output_type": "error",
     "traceback": [
      "\u001b[0;31m---------------------------------------------------------------------------\u001b[0m",
      "\u001b[0;31mTypeError\u001b[0m                                 Traceback (most recent call last)",
      "\u001b[1;32mc:\\Users\\bbp\\OneDrive - NIST\\BP_NISTSoftware\\BPWINLaptop02_GIT\\rsoxs_scans\\example\\new scan stackv7.ipynb Cell 6\u001b[0m in \u001b[0;36m<cell line: 2>\u001b[0;34m()\u001b[0m\n\u001b[1;32m      <a href='vscode-notebook-cell:/c%3A/Users/bbp/OneDrive%20-%20NIST/BP_NISTSoftware/BPWINLaptop02_GIT/rsoxs_scans/example/new%20scan%20stackv7.ipynb#W5sZmlsZQ%3D%3D?line=0'>1</a>\u001b[0m \u001b[39m# dry run it\u001b[39;00m\n\u001b[0;32m----> <a href='vscode-notebook-cell:/c%3A/Users/bbp/OneDrive%20-%20NIST/BP_NISTSoftware/BPWINLaptop02_GIT/rsoxs_scans/example/new%20scan%20stackv7.ipynb#W5sZmlsZQ%3D%3D?line=1'>2</a>\u001b[0m outputs \u001b[39m=\u001b[39m dryrun_bar(bar,[\u001b[39m'\u001b[39;49m\u001b[39mapriority\u001b[39;49m\u001b[39m'\u001b[39;49m],group\u001b[39m=\u001b[39;49m\u001b[39m'\u001b[39;49m\u001b[39mall\u001b[39;49m\u001b[39m'\u001b[39;49m)\n",
      "File \u001b[0;32m~/BP_LocalCodeBase/rsoxs_scans/rsoxs_scans/acquisition.py:308\u001b[0m, in \u001b[0;36mdryrun_bar\u001b[0;34m(bar, sort_by, rev, print_dry_run, group, repeat_previous_runs)\u001b[0m\n\u001b[1;32m    306\u001b[0m \u001b[39mexcept\u001b[39;00m \u001b[39mException\u001b[39;00m \u001b[39mas\u001b[39;00m e:\n\u001b[1;32m    307\u001b[0m     warnings\u001b[39m.\u001b[39mwarn(\u001b[39mf\u001b[39m\u001b[39m\"\u001b[39m\u001b[39mWARNING: acquisition # \u001b[39m\u001b[39m{\u001b[39;00mi\u001b[39m}\u001b[39;00m\u001b[39m has a step with an error: \u001b[39m\u001b[39m{\u001b[39;00m\u001b[39mstr\u001b[39m(e)\u001b[39m}\u001b[39;00m\u001b[39m\"\u001b[39m)\n\u001b[0;32m--> 308\u001b[0m     \u001b[39mraise\u001b[39;00m e\n\u001b[1;32m    309\u001b[0m     \u001b[39mpass\u001b[39;00m\n\u001b[1;32m    310\u001b[0m total_time \u001b[39m+\u001b[39m\u001b[39m=\u001b[39m step[\u001b[39m4\u001b[39m]\n",
      "File \u001b[0;32m~/BP_LocalCodeBase/rsoxs_scans/rsoxs_scans/acquisition.py:280\u001b[0m, in \u001b[0;36mdryrun_bar\u001b[0;34m(bar, sort_by, rev, print_dry_run, group, repeat_previous_runs)\u001b[0m\n\u001b[1;32m    278\u001b[0m     text \u001b[39m+\u001b[39m\u001b[39m=\u001b[39m \u001b[39m\"\u001b[39m\u001b[39mWarning invalid configuration\u001b[39m\u001b[39m\"\u001b[39m \u001b[39m+\u001b[39m step[\u001b[39m2\u001b[39m]\n\u001b[1;32m    279\u001b[0m \u001b[39mtry\u001b[39;00m:\n\u001b[0;32m--> 280\u001b[0m     acquisition[\u001b[39m\"\u001b[39m\u001b[39msteps\u001b[39m\u001b[39m\"\u001b[39m] \u001b[39m=\u001b[39m dryrun_acquisition(step[\u001b[39m6\u001b[39;49m], step[\u001b[39m5\u001b[39;49m])\n\u001b[1;32m    281\u001b[0m     acquisition[\u001b[39m\"\u001b[39m\u001b[39macq_index\u001b[39m\u001b[39m\"\u001b[39m] \u001b[39m=\u001b[39m i\n\u001b[1;32m    282\u001b[0m     acquisition[\u001b[39m\"\u001b[39m\u001b[39macq_time\u001b[39m\u001b[39m\"\u001b[39m] \u001b[39m=\u001b[39m step[\u001b[39m4\u001b[39m]\n",
      "File \u001b[0;32m~/BP_LocalCodeBase/rsoxs_scans/rsoxs_scans/acquisition.py:84\u001b[0m, in \u001b[0;36mdryrun_acquisition\u001b[0;34m(acq, sample)\u001b[0m\n\u001b[1;32m     82\u001b[0m \u001b[39mif\u001b[39;00m \u001b[39m\"\u001b[39m\u001b[39mtype\u001b[39m\u001b[39m\"\u001b[39m \u001b[39min\u001b[39;00m acq:\n\u001b[1;32m     83\u001b[0m     \u001b[39mif\u001b[39;00m acq[\u001b[39m\"\u001b[39m\u001b[39mtype\u001b[39m\u001b[39m\"\u001b[39m] \u001b[39m==\u001b[39m \u001b[39m\"\u001b[39m\u001b[39mrsoxs\u001b[39m\u001b[39m\"\u001b[39m:\n\u001b[0;32m---> 84\u001b[0m         outputs\u001b[39m.\u001b[39mextend(dryrun_rsoxs_plan(\u001b[39m*\u001b[39;49m\u001b[39m*\u001b[39;49macq, md\u001b[39m=\u001b[39;49msample))\n\u001b[1;32m     85\u001b[0m         \u001b[39mreturn\u001b[39;00m outputs\n\u001b[1;32m     86\u001b[0m     \u001b[39melif\u001b[39;00m acq[\u001b[39m\"\u001b[39m\u001b[39mtype\u001b[39m\u001b[39m\"\u001b[39m] \u001b[39m==\u001b[39m \u001b[39m\"\u001b[39m\u001b[39mnexafs\u001b[39m\u001b[39m\"\u001b[39m:\n",
      "File \u001b[0;32m~/BP_LocalCodeBase/rsoxs_scans/rsoxs_scans/rsoxs.py:358\u001b[0m, in \u001b[0;36mdryrun_rsoxs_plan\u001b[0;34m(edge, exposure_time, frames, ratios, repeats, polarizations, angles, grating, diode_range, temperatures, temp_ramp_speed, temp_wait, md, **kwargs)\u001b[0m\n\u001b[1;32m    355\u001b[0m         md[\u001b[39m\"\u001b[39m\u001b[39mbar_loc\u001b[39m\u001b[39m\"\u001b[39m][\u001b[39m\"\u001b[39m\u001b[39mxoff\u001b[39m\u001b[39m\"\u001b[39m] \u001b[39m=\u001b[39m md[\u001b[39m\"\u001b[39m\u001b[39mbar_loc\u001b[39m\u001b[39m\"\u001b[39m]\u001b[39m.\u001b[39mget(\u001b[39m\"\u001b[39m\u001b[39mxoff\u001b[39m\u001b[39m\"\u001b[39m, \u001b[39m0\u001b[39m)\n\u001b[1;32m    356\u001b[0m         md[\u001b[39m\"\u001b[39m\u001b[39mbar_loc\u001b[39m\u001b[39m\"\u001b[39m][\u001b[39m\"\u001b[39m\u001b[39mzoff\u001b[39m\u001b[39m\"\u001b[39m] \u001b[39m=\u001b[39m md[\u001b[39m\"\u001b[39m\u001b[39mbar_loc\u001b[39m\u001b[39m\"\u001b[39m]\u001b[39m.\u001b[39mget(\u001b[39m\"\u001b[39m\u001b[39mzoff\u001b[39m\u001b[39m\"\u001b[39m, \u001b[39m0\u001b[39m)\n\u001b[0;32m--> 358\u001b[0m         rotate_sample(\n\u001b[1;32m    359\u001b[0m             md\n\u001b[1;32m    360\u001b[0m         )  \u001b[39m# doesn't rotate the actual sample yet, just does the math to update the location of the sample\u001b[39;00m\n\u001b[1;32m    361\u001b[0m         locations \u001b[39m+\u001b[39m\u001b[39m=\u001b[39m [deepcopy(md[\u001b[39m\"\u001b[39m\u001b[39mlocation\u001b[39m\u001b[39m\"\u001b[39m])]  \u001b[39m# read that rotated location as a location for the acquisition\u001b[39;00m\n\u001b[1;32m    362\u001b[0m outputs\u001b[39m.\u001b[39mappend(\n\u001b[1;32m    363\u001b[0m     rsoxs_scan_enqueue(\n\u001b[1;32m    364\u001b[0m         grating\u001b[39m=\u001b[39mgrating,\n\u001b[0;32m   (...)\u001b[0m\n\u001b[1;32m    374\u001b[0m     )\n\u001b[1;32m    375\u001b[0m )\n",
      "File \u001b[0;32m~/BP_LocalCodeBase/rsoxs_scans/rsoxs_scans/rsoxs.py:28\u001b[0m, in \u001b[0;36mrotate_sample\u001b[0;34m(samp, force)\u001b[0m\n\u001b[1;32m     26\u001b[0m thwritten \u001b[39m=\u001b[39m \u001b[39mFalse\u001b[39;00m\n\u001b[1;32m     27\u001b[0m \u001b[39mfor\u001b[39;00m motor \u001b[39min\u001b[39;00m samp[\u001b[39m\"\u001b[39m\u001b[39mlocation\u001b[39m\u001b[39m\"\u001b[39m]:\n\u001b[0;32m---> 28\u001b[0m     \u001b[39mif\u001b[39;00m motor[\u001b[39m\"\u001b[39;49m\u001b[39mmotor\u001b[39;49m\u001b[39m\"\u001b[39;49m] \u001b[39m==\u001b[39m \u001b[39m\"\u001b[39m\u001b[39mx\u001b[39m\u001b[39m\"\u001b[39m:\n\u001b[1;32m     29\u001b[0m         motor[\u001b[39m\"\u001b[39m\u001b[39mposition\u001b[39m\u001b[39m\"\u001b[39m] \u001b[39m=\u001b[39m newx\n\u001b[1;32m     30\u001b[0m         xwritten \u001b[39m=\u001b[39m \u001b[39mTrue\u001b[39;00m\n",
      "\u001b[0;31mTypeError\u001b[0m: string indices must be integers"
     ]
    }
   ],
   "source": [
    "# dry run it\n",
    "outputs = dryrun_bar(bar,['apriority'],group='all')"
   ]
  },
  {
   "cell_type": "code",
   "execution_count": null,
   "id": "38076d20-5963-4f19-80a0-22682674da83",
   "metadata": {
    "tags": []
   },
   "outputs": [],
   "source": [
    "# Get more details on a given acquisition\n",
    "get_acq_details(40,outputs)"
   ]
  },
  {
   "cell_type": "code",
   "execution_count": null,
   "id": "2b8e8d89-e1ed-41f7-a2f3-260f07c74632",
   "metadata": {},
   "outputs": [],
   "source": [
    "# get the set of all actions\n",
    "actions = set()\n",
    "for acq in outputs:\n",
    "    for step in acq['steps']:\n",
    "        actions.add(step['action'])\n",
    "print(actions)"
   ]
  },
  {
   "cell_type": "code",
   "execution_count": null,
   "id": "045fd5e0-dce3-4cd3-876a-18605e2fa829",
   "metadata": {},
   "outputs": [],
   "source": [
    "arguments = {}\n",
    "for action in actions:\n",
    "    keys = set()\n",
    "    for acq in outputs:\n",
    "        for step in acq['steps']:\n",
    "            if step['action'] == action:\n",
    "                if 'kwargs' in step:\n",
    "                    for kwarg in step['kwargs']:\n",
    "                        keys.add(kwarg)\n",
    "    arguments[action]=keys\n",
    "    print(\"{:<18} : {}\".format(action,keys))"
   ]
  },
  {
   "cell_type": "markdown",
   "id": "37783752-3496-473a-a060-a4498bf149b5",
   "metadata": {},
   "source": [
    "<h1>Examples of edges, ratios, frames"
   ]
  },
  {
   "cell_type": "code",
   "execution_count": null,
   "id": "5d44adc0-5366-4e94-944a-e26b36207010",
   "metadata": {},
   "outputs": [],
   "source": [
    "# totally manual simple scan\n",
    "from rsoxs_scans.constructor import get_energies\n",
    "energies = get_energies((1850,1930),100)"
   ]
  },
  {
   "cell_type": "code",
   "execution_count": null,
   "id": "30a30275-6494-4130-9f57-59d0ec712b7f",
   "metadata": {},
   "outputs": [],
   "source": [
    "# precise energy list\n",
    "# you can fool the algorithm if you put 1 as the number of frames it will only take one frame at each of the thresholds, including the last one, so you can sort of treat this as just an energy list\n",
    "# as a corollary, you can't have a total number of frames less than the thresholds that you give it in edges (it will at a minimum always take the threshold values)\n",
    "energies = get_energies((250,250,250,340,340,341,280,281.45,500,500),1)"
   ]
  },
  {
   "cell_type": "code",
   "execution_count": null,
   "id": "01f21db7-aefb-4ace-8200-56e3e03ee069",
   "metadata": {},
   "outputs": [],
   "source": [
    "# use a default\n",
    "energies = get_energies('Nitrogen')"
   ]
  },
  {
   "cell_type": "code",
   "execution_count": null,
   "id": "56a2c320-4ae5-45bf-b053-e01692b2d810",
   "metadata": {},
   "outputs": [],
   "source": [
    "# use a default with a different name\n",
    "energies = get_energies('c')"
   ]
  },
  {
   "cell_type": "code",
   "execution_count": null,
   "id": "e1e30377-dc74-424c-8283-c124ca1d345d",
   "metadata": {},
   "outputs": [],
   "source": [
    "# use a different built in interval set\n",
    "energies = get_energies('c','full','carbon nonaromatic')"
   ]
  },
  {
   "cell_type": "code",
   "execution_count": null,
   "id": "abbff89b-d872-41bc-9a58-2760307ad093",
   "metadata": {},
   "outputs": [],
   "source": [
    "# get a very short version of this scan\n",
    "energies = get_energies('c','very short','carbon nonaromatic')"
   ]
  },
  {
   "cell_type": "code",
   "execution_count": null,
   "id": "c1e455f8-680c-4a86-a706-326dc99b446c",
   "metadata": {},
   "outputs": [],
   "source": [
    "# I don't have time for this, I only want ~10 energies\n",
    "energies = get_energies('c',10,'carbon nonaromatic')"
   ]
  },
  {
   "cell_type": "code",
   "execution_count": null,
   "id": "771e227b-71cc-41c1-938a-cdead12cac27",
   "metadata": {},
   "outputs": [],
   "source": [
    "# also, I made single entry energies also work\n",
    "energies = get_energies(280)"
   ]
  },
  {
   "cell_type": "code",
   "execution_count": null,
   "id": "eb099401-380a-4a9e-91e7-601c24516b1b",
   "metadata": {},
   "outputs": [],
   "source": [
    "# also option to have frames as a list of exact numbers needed in each region\n",
    "energies = get_energies('c',[2,5,10,40,5,2])"
   ]
  },
  {
   "cell_type": "code",
   "execution_count": null,
   "id": "02a587fb-0d40-4be1-8981-e3780554fe82",
   "metadata": {},
   "outputs": [],
   "source": [
    "# putting in zero effectively removes that region\n",
    "energies = get_energies('c',[2,5,10,0,5,2])"
   ]
  },
  {
   "cell_type": "code",
   "execution_count": null,
   "id": "7ac7e575-ba97-47db-942d-0142f94bc874",
   "metadata": {},
   "outputs": [],
   "source": [
    "from rsoxs_scans.constructor import construct_exposure_times\n",
    "times,_ = construct_exposure_times(get_energies([270,280,290,400],500,[2,1,10]),1)\n",
    "len(times)"
   ]
  },
  {
   "cell_type": "code",
   "execution_count": null,
   "id": "1bfaf2de-0b6d-44c6-bb01-94298933acdc",
   "metadata": {},
   "outputs": [],
   "source": [
    "from rsoxs_scans.constructor import get_nexafs_scan_params\n",
    "get_nexafs_scan_params('n','normal')"
   ]
  },
  {
   "cell_type": "markdown",
   "id": "c51dddb5-ce03-415c-b959-4c3b0ce2f4eb",
   "metadata": {},
   "source": [
    "<h1>Example of complex Exposure times"
   ]
  },
  {
   "cell_type": "code",
   "execution_count": null,
   "id": "2176f39a-e823-4272-9239-7ee2652073d3",
   "metadata": {},
   "outputs": [],
   "source": [
    "construct_exposure_times(get_energies((1850,1930),100),[2,(\"between\",1870,1900.0),4,(\"greater_than\",1920.0),1],80)"
   ]
  },
  {
   "cell_type": "code",
   "execution_count": null,
   "id": "063b78bd-8623-4635-9de5-c071b548d807",
   "metadata": {},
   "outputs": [],
   "source": [
    "isinstance('asdf',str)"
   ]
  },
  {
   "cell_type": "code",
   "execution_count": null,
   "id": "fce3a73c-cd98-4e50-ad61-850272a9b358",
   "metadata": {},
   "outputs": [],
   "source": []
  },
  {
   "cell_type": "code",
   "execution_count": null,
   "id": "3e8c16a1-55fe-4fa1-b990-ed76b04e9448",
   "metadata": {},
   "outputs": [],
   "source": []
  }
 ],
 "metadata": {
  "kernelspec": {
   "display_name": "Python 3 (ipykernel)",
   "language": "python",
   "name": "python3"
  },
  "language_info": {
   "codemirror_mode": {
    "name": "ipython",
    "version": 3
   },
   "file_extension": ".py",
   "mimetype": "text/x-python",
   "name": "python",
   "nbconvert_exporter": "python",
   "pygments_lexer": "ipython3",
   "version": "3.9.13"
  },
  "vscode": {
   "interpreter": {
    "hash": "054bedd935cc4fb30a8577dfc7551b971df042c2fe48c0ba637d4f4d7d65a122"
   }
  }
 },
 "nbformat": 4,
 "nbformat_minor": 5
}
